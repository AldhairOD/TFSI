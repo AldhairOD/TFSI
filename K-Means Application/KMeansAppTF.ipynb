{
  "nbformat": 4,
  "nbformat_minor": 0,
  "metadata": {
    "colab": {
      "provenance": []
    },
    "kernelspec": {
      "name": "python3",
      "display_name": "Python 3"
    },
    "language_info": {
      "name": "python"
    }
  },
  "cells": [
    {
      "cell_type": "markdown",
      "source": [
        "Imports para el proyecto"
      ],
      "metadata": {
        "id": "-VUpkyn4GM1F"
      }
    },
    {
      "cell_type": "code",
      "execution_count": 2,
      "metadata": {
        "id": "njG5pVHdGI71"
      },
      "outputs": [],
      "source": [
        "import pandas as pd\n",
        "import numpy as np\n",
        "from sklearn.preprocessing import StandardScaler\n",
        "from sklearn.cluster import KMeans\n",
        "from sklearn.cluster import SpectralClustering\n",
        "from sklearn.mixture import GaussianMixture\n",
        "from sklearn.metrics import silhouette_score, homogeneity_score, completeness_score, v_measure_score, adjusted_rand_score\n",
        "from google.colab import files\n",
        "from sklearn.decomposition import PCA\n",
        "import matplotlib.pyplot as plt\n",
        "import seaborn as sns"
      ]
    },
    {
      "cell_type": "markdown",
      "source": [
        "Aca subir el archivo 2020-gastos-covid-19"
      ],
      "metadata": {
        "id": "7PvpqP0aOUTS"
      }
    },
    {
      "cell_type": "code",
      "source": [
        "upload = files.upload()"
      ],
      "metadata": {
        "id": "qUdGElAgMBEK",
        "colab": {
          "base_uri": "https://localhost:8080/",
          "height": 73
        },
        "outputId": "3970c21a-c083-44b2-c882-ca05b07ceed7"
      },
      "execution_count": 3,
      "outputs": [
        {
          "output_type": "display_data",
          "data": {
            "text/plain": [
              "<IPython.core.display.HTML object>"
            ],
            "text/html": [
              "\n",
              "     <input type=\"file\" id=\"files-1c580c3f-4ec1-42e4-ae2e-5207915847ed\" name=\"files[]\" multiple disabled\n",
              "        style=\"border:none\" />\n",
              "     <output id=\"result-1c580c3f-4ec1-42e4-ae2e-5207915847ed\">\n",
              "      Upload widget is only available when the cell has been executed in the\n",
              "      current browser session. Please rerun this cell to enable.\n",
              "      </output>\n",
              "      <script>// Copyright 2017 Google LLC\n",
              "//\n",
              "// Licensed under the Apache License, Version 2.0 (the \"License\");\n",
              "// you may not use this file except in compliance with the License.\n",
              "// You may obtain a copy of the License at\n",
              "//\n",
              "//      http://www.apache.org/licenses/LICENSE-2.0\n",
              "//\n",
              "// Unless required by applicable law or agreed to in writing, software\n",
              "// distributed under the License is distributed on an \"AS IS\" BASIS,\n",
              "// WITHOUT WARRANTIES OR CONDITIONS OF ANY KIND, either express or implied.\n",
              "// See the License for the specific language governing permissions and\n",
              "// limitations under the License.\n",
              "\n",
              "/**\n",
              " * @fileoverview Helpers for google.colab Python module.\n",
              " */\n",
              "(function(scope) {\n",
              "function span(text, styleAttributes = {}) {\n",
              "  const element = document.createElement('span');\n",
              "  element.textContent = text;\n",
              "  for (const key of Object.keys(styleAttributes)) {\n",
              "    element.style[key] = styleAttributes[key];\n",
              "  }\n",
              "  return element;\n",
              "}\n",
              "\n",
              "// Max number of bytes which will be uploaded at a time.\n",
              "const MAX_PAYLOAD_SIZE = 100 * 1024;\n",
              "\n",
              "function _uploadFiles(inputId, outputId) {\n",
              "  const steps = uploadFilesStep(inputId, outputId);\n",
              "  const outputElement = document.getElementById(outputId);\n",
              "  // Cache steps on the outputElement to make it available for the next call\n",
              "  // to uploadFilesContinue from Python.\n",
              "  outputElement.steps = steps;\n",
              "\n",
              "  return _uploadFilesContinue(outputId);\n",
              "}\n",
              "\n",
              "// This is roughly an async generator (not supported in the browser yet),\n",
              "// where there are multiple asynchronous steps and the Python side is going\n",
              "// to poll for completion of each step.\n",
              "// This uses a Promise to block the python side on completion of each step,\n",
              "// then passes the result of the previous step as the input to the next step.\n",
              "function _uploadFilesContinue(outputId) {\n",
              "  const outputElement = document.getElementById(outputId);\n",
              "  const steps = outputElement.steps;\n",
              "\n",
              "  const next = steps.next(outputElement.lastPromiseValue);\n",
              "  return Promise.resolve(next.value.promise).then((value) => {\n",
              "    // Cache the last promise value to make it available to the next\n",
              "    // step of the generator.\n",
              "    outputElement.lastPromiseValue = value;\n",
              "    return next.value.response;\n",
              "  });\n",
              "}\n",
              "\n",
              "/**\n",
              " * Generator function which is called between each async step of the upload\n",
              " * process.\n",
              " * @param {string} inputId Element ID of the input file picker element.\n",
              " * @param {string} outputId Element ID of the output display.\n",
              " * @return {!Iterable<!Object>} Iterable of next steps.\n",
              " */\n",
              "function* uploadFilesStep(inputId, outputId) {\n",
              "  const inputElement = document.getElementById(inputId);\n",
              "  inputElement.disabled = false;\n",
              "\n",
              "  const outputElement = document.getElementById(outputId);\n",
              "  outputElement.innerHTML = '';\n",
              "\n",
              "  const pickedPromise = new Promise((resolve) => {\n",
              "    inputElement.addEventListener('change', (e) => {\n",
              "      resolve(e.target.files);\n",
              "    });\n",
              "  });\n",
              "\n",
              "  const cancel = document.createElement('button');\n",
              "  inputElement.parentElement.appendChild(cancel);\n",
              "  cancel.textContent = 'Cancel upload';\n",
              "  const cancelPromise = new Promise((resolve) => {\n",
              "    cancel.onclick = () => {\n",
              "      resolve(null);\n",
              "    };\n",
              "  });\n",
              "\n",
              "  // Wait for the user to pick the files.\n",
              "  const files = yield {\n",
              "    promise: Promise.race([pickedPromise, cancelPromise]),\n",
              "    response: {\n",
              "      action: 'starting',\n",
              "    }\n",
              "  };\n",
              "\n",
              "  cancel.remove();\n",
              "\n",
              "  // Disable the input element since further picks are not allowed.\n",
              "  inputElement.disabled = true;\n",
              "\n",
              "  if (!files) {\n",
              "    return {\n",
              "      response: {\n",
              "        action: 'complete',\n",
              "      }\n",
              "    };\n",
              "  }\n",
              "\n",
              "  for (const file of files) {\n",
              "    const li = document.createElement('li');\n",
              "    li.append(span(file.name, {fontWeight: 'bold'}));\n",
              "    li.append(span(\n",
              "        `(${file.type || 'n/a'}) - ${file.size} bytes, ` +\n",
              "        `last modified: ${\n",
              "            file.lastModifiedDate ? file.lastModifiedDate.toLocaleDateString() :\n",
              "                                    'n/a'} - `));\n",
              "    const percent = span('0% done');\n",
              "    li.appendChild(percent);\n",
              "\n",
              "    outputElement.appendChild(li);\n",
              "\n",
              "    const fileDataPromise = new Promise((resolve) => {\n",
              "      const reader = new FileReader();\n",
              "      reader.onload = (e) => {\n",
              "        resolve(e.target.result);\n",
              "      };\n",
              "      reader.readAsArrayBuffer(file);\n",
              "    });\n",
              "    // Wait for the data to be ready.\n",
              "    let fileData = yield {\n",
              "      promise: fileDataPromise,\n",
              "      response: {\n",
              "        action: 'continue',\n",
              "      }\n",
              "    };\n",
              "\n",
              "    // Use a chunked sending to avoid message size limits. See b/62115660.\n",
              "    let position = 0;\n",
              "    do {\n",
              "      const length = Math.min(fileData.byteLength - position, MAX_PAYLOAD_SIZE);\n",
              "      const chunk = new Uint8Array(fileData, position, length);\n",
              "      position += length;\n",
              "\n",
              "      const base64 = btoa(String.fromCharCode.apply(null, chunk));\n",
              "      yield {\n",
              "        response: {\n",
              "          action: 'append',\n",
              "          file: file.name,\n",
              "          data: base64,\n",
              "        },\n",
              "      };\n",
              "\n",
              "      let percentDone = fileData.byteLength === 0 ?\n",
              "          100 :\n",
              "          Math.round((position / fileData.byteLength) * 100);\n",
              "      percent.textContent = `${percentDone}% done`;\n",
              "\n",
              "    } while (position < fileData.byteLength);\n",
              "  }\n",
              "\n",
              "  // All done.\n",
              "  yield {\n",
              "    response: {\n",
              "      action: 'complete',\n",
              "    }\n",
              "  };\n",
              "}\n",
              "\n",
              "scope.google = scope.google || {};\n",
              "scope.google.colab = scope.google.colab || {};\n",
              "scope.google.colab._files = {\n",
              "  _uploadFiles,\n",
              "  _uploadFilesContinue,\n",
              "};\n",
              "})(self);\n",
              "</script> "
            ]
          },
          "metadata": {}
        },
        {
          "output_type": "stream",
          "name": "stdout",
          "text": [
            "Saving 2020-Gasto-COVID-19.csv to 2020-Gasto-COVID-19.csv\n"
          ]
        }
      ]
    },
    {
      "cell_type": "markdown",
      "source": [
        "Aca subir el archivo diccionario de gastos"
      ],
      "metadata": {
        "id": "uxAI_cIBOX-g"
      }
    },
    {
      "cell_type": "code",
      "source": [
        "upload2 = files.upload()"
      ],
      "metadata": {
        "id": "3vjE0r1dMw1R",
        "colab": {
          "base_uri": "https://localhost:8080/",
          "height": 73
        },
        "outputId": "42d223cd-752a-444d-fabc-7aebe8a0faad"
      },
      "execution_count": 7,
      "outputs": [
        {
          "output_type": "display_data",
          "data": {
            "text/plain": [
              "<IPython.core.display.HTML object>"
            ],
            "text/html": [
              "\n",
              "     <input type=\"file\" id=\"files-08ccfb4d-f9bf-4754-8e7d-5425046900c4\" name=\"files[]\" multiple disabled\n",
              "        style=\"border:none\" />\n",
              "     <output id=\"result-08ccfb4d-f9bf-4754-8e7d-5425046900c4\">\n",
              "      Upload widget is only available when the cell has been executed in the\n",
              "      current browser session. Please rerun this cell to enable.\n",
              "      </output>\n",
              "      <script>// Copyright 2017 Google LLC\n",
              "//\n",
              "// Licensed under the Apache License, Version 2.0 (the \"License\");\n",
              "// you may not use this file except in compliance with the License.\n",
              "// You may obtain a copy of the License at\n",
              "//\n",
              "//      http://www.apache.org/licenses/LICENSE-2.0\n",
              "//\n",
              "// Unless required by applicable law or agreed to in writing, software\n",
              "// distributed under the License is distributed on an \"AS IS\" BASIS,\n",
              "// WITHOUT WARRANTIES OR CONDITIONS OF ANY KIND, either express or implied.\n",
              "// See the License for the specific language governing permissions and\n",
              "// limitations under the License.\n",
              "\n",
              "/**\n",
              " * @fileoverview Helpers for google.colab Python module.\n",
              " */\n",
              "(function(scope) {\n",
              "function span(text, styleAttributes = {}) {\n",
              "  const element = document.createElement('span');\n",
              "  element.textContent = text;\n",
              "  for (const key of Object.keys(styleAttributes)) {\n",
              "    element.style[key] = styleAttributes[key];\n",
              "  }\n",
              "  return element;\n",
              "}\n",
              "\n",
              "// Max number of bytes which will be uploaded at a time.\n",
              "const MAX_PAYLOAD_SIZE = 100 * 1024;\n",
              "\n",
              "function _uploadFiles(inputId, outputId) {\n",
              "  const steps = uploadFilesStep(inputId, outputId);\n",
              "  const outputElement = document.getElementById(outputId);\n",
              "  // Cache steps on the outputElement to make it available for the next call\n",
              "  // to uploadFilesContinue from Python.\n",
              "  outputElement.steps = steps;\n",
              "\n",
              "  return _uploadFilesContinue(outputId);\n",
              "}\n",
              "\n",
              "// This is roughly an async generator (not supported in the browser yet),\n",
              "// where there are multiple asynchronous steps and the Python side is going\n",
              "// to poll for completion of each step.\n",
              "// This uses a Promise to block the python side on completion of each step,\n",
              "// then passes the result of the previous step as the input to the next step.\n",
              "function _uploadFilesContinue(outputId) {\n",
              "  const outputElement = document.getElementById(outputId);\n",
              "  const steps = outputElement.steps;\n",
              "\n",
              "  const next = steps.next(outputElement.lastPromiseValue);\n",
              "  return Promise.resolve(next.value.promise).then((value) => {\n",
              "    // Cache the last promise value to make it available to the next\n",
              "    // step of the generator.\n",
              "    outputElement.lastPromiseValue = value;\n",
              "    return next.value.response;\n",
              "  });\n",
              "}\n",
              "\n",
              "/**\n",
              " * Generator function which is called between each async step of the upload\n",
              " * process.\n",
              " * @param {string} inputId Element ID of the input file picker element.\n",
              " * @param {string} outputId Element ID of the output display.\n",
              " * @return {!Iterable<!Object>} Iterable of next steps.\n",
              " */\n",
              "function* uploadFilesStep(inputId, outputId) {\n",
              "  const inputElement = document.getElementById(inputId);\n",
              "  inputElement.disabled = false;\n",
              "\n",
              "  const outputElement = document.getElementById(outputId);\n",
              "  outputElement.innerHTML = '';\n",
              "\n",
              "  const pickedPromise = new Promise((resolve) => {\n",
              "    inputElement.addEventListener('change', (e) => {\n",
              "      resolve(e.target.files);\n",
              "    });\n",
              "  });\n",
              "\n",
              "  const cancel = document.createElement('button');\n",
              "  inputElement.parentElement.appendChild(cancel);\n",
              "  cancel.textContent = 'Cancel upload';\n",
              "  const cancelPromise = new Promise((resolve) => {\n",
              "    cancel.onclick = () => {\n",
              "      resolve(null);\n",
              "    };\n",
              "  });\n",
              "\n",
              "  // Wait for the user to pick the files.\n",
              "  const files = yield {\n",
              "    promise: Promise.race([pickedPromise, cancelPromise]),\n",
              "    response: {\n",
              "      action: 'starting',\n",
              "    }\n",
              "  };\n",
              "\n",
              "  cancel.remove();\n",
              "\n",
              "  // Disable the input element since further picks are not allowed.\n",
              "  inputElement.disabled = true;\n",
              "\n",
              "  if (!files) {\n",
              "    return {\n",
              "      response: {\n",
              "        action: 'complete',\n",
              "      }\n",
              "    };\n",
              "  }\n",
              "\n",
              "  for (const file of files) {\n",
              "    const li = document.createElement('li');\n",
              "    li.append(span(file.name, {fontWeight: 'bold'}));\n",
              "    li.append(span(\n",
              "        `(${file.type || 'n/a'}) - ${file.size} bytes, ` +\n",
              "        `last modified: ${\n",
              "            file.lastModifiedDate ? file.lastModifiedDate.toLocaleDateString() :\n",
              "                                    'n/a'} - `));\n",
              "    const percent = span('0% done');\n",
              "    li.appendChild(percent);\n",
              "\n",
              "    outputElement.appendChild(li);\n",
              "\n",
              "    const fileDataPromise = new Promise((resolve) => {\n",
              "      const reader = new FileReader();\n",
              "      reader.onload = (e) => {\n",
              "        resolve(e.target.result);\n",
              "      };\n",
              "      reader.readAsArrayBuffer(file);\n",
              "    });\n",
              "    // Wait for the data to be ready.\n",
              "    let fileData = yield {\n",
              "      promise: fileDataPromise,\n",
              "      response: {\n",
              "        action: 'continue',\n",
              "      }\n",
              "    };\n",
              "\n",
              "    // Use a chunked sending to avoid message size limits. See b/62115660.\n",
              "    let position = 0;\n",
              "    do {\n",
              "      const length = Math.min(fileData.byteLength - position, MAX_PAYLOAD_SIZE);\n",
              "      const chunk = new Uint8Array(fileData, position, length);\n",
              "      position += length;\n",
              "\n",
              "      const base64 = btoa(String.fromCharCode.apply(null, chunk));\n",
              "      yield {\n",
              "        response: {\n",
              "          action: 'append',\n",
              "          file: file.name,\n",
              "          data: base64,\n",
              "        },\n",
              "      };\n",
              "\n",
              "      let percentDone = fileData.byteLength === 0 ?\n",
              "          100 :\n",
              "          Math.round((position / fileData.byteLength) * 100);\n",
              "      percent.textContent = `${percentDone}% done`;\n",
              "\n",
              "    } while (position < fileData.byteLength);\n",
              "  }\n",
              "\n",
              "  // All done.\n",
              "  yield {\n",
              "    response: {\n",
              "      action: 'complete',\n",
              "    }\n",
              "  };\n",
              "}\n",
              "\n",
              "scope.google = scope.google || {};\n",
              "scope.google.colab = scope.google.colab || {};\n",
              "scope.google.colab._files = {\n",
              "  _uploadFiles,\n",
              "  _uploadFilesContinue,\n",
              "};\n",
              "})(self);\n",
              "</script> "
            ]
          },
          "metadata": {}
        },
        {
          "output_type": "stream",
          "name": "stdout",
          "text": [
            "Saving Gasto_COVID_19_Diccionario.csv to Gasto_COVID_19_Diccionario.csv\n"
          ]
        }
      ]
    },
    {
      "cell_type": "markdown",
      "source": [
        "Lectura de archivos CSV"
      ],
      "metadata": {
        "id": "9zOY6WPtGm6J"
      }
    },
    {
      "cell_type": "code",
      "source": [
        "# Leer los archivos CSV\n",
        "data = pd.read_csv(next(iter(upload)))\n",
        "diccionario = pd.read_csv(next(iter(upload2)))\n"
      ],
      "metadata": {
        "colab": {
          "base_uri": "https://localhost:8080/"
        },
        "id": "z5HbCXIZGucR",
        "outputId": "fe7575e7-bde8-40e0-9ff1-40e505fca7f9"
      },
      "execution_count": 8,
      "outputs": [
        {
          "output_type": "stream",
          "name": "stderr",
          "text": [
            "<ipython-input-8-8a161562372e>:2: DtypeWarning: Columns (41) have mixed types. Specify dtype option on import or set low_memory=False.\n",
            "  data = pd.read_csv(next(iter(upload)))\n"
          ]
        }
      ]
    },
    {
      "cell_type": "markdown",
      "source": [
        "Inspeccionamiento de datos y diccionario de datos"
      ],
      "metadata": {
        "id": "lNStqqzDHYW2"
      }
    },
    {
      "cell_type": "code",
      "source": [
        "# Mostrar las primeras filas de los datos\n",
        "print(\"Datos principales:\")\n",
        "print(data.head())\n",
        "\n",
        "print(\"\\nDiccionario de datos:\")\n",
        "print(diccionario.head())"
      ],
      "metadata": {
        "colab": {
          "base_uri": "https://localhost:8080/"
        },
        "id": "Jt0c742UHcXo",
        "outputId": "9b00c03a-47cf-4e70-cf31-50c8f3b12735"
      },
      "execution_count": 9,
      "outputs": [
        {
          "output_type": "stream",
          "name": "stdout",
          "text": [
            "Datos principales:\n",
            "   ANO_EJE  MES_EJE NIVEL_GOBIERNO NIVEL_GOBIERNO_NOMBRE  SECTOR  \\\n",
            "0     2020        7              E     GOBIERNO NACIONAL      13   \n",
            "1     2020        8              E     GOBIERNO NACIONAL      13   \n",
            "2     2020        8              E     GOBIERNO NACIONAL      13   \n",
            "3     2020        0              E     GOBIERNO NACIONAL      13   \n",
            "4     2020        0              E     GOBIERNO NACIONAL      13   \n",
            "\n",
            "  SECTOR_NOMBRE  PLIEGO                      PLIEGO_NOMBRE  SEC_EJEC  \\\n",
            "0   AGRICULTURA     164  AUTORIDAD NACIONAL DEL AGUA - ANA      1299   \n",
            "1   AGRICULTURA     164  AUTORIDAD NACIONAL DEL AGUA - ANA      1299   \n",
            "2   AGRICULTURA     164  AUTORIDAD NACIONAL DEL AGUA - ANA      1299   \n",
            "3   AGRICULTURA     164  AUTORIDAD NACIONAL DEL AGUA - ANA      1299   \n",
            "4   AGRICULTURA     164  AUTORIDAD NACIONAL DEL AGUA - ANA      1299   \n",
            "\n",
            "   EJECUTORA  ...              ESPECIFICA_NOMBRE  ESPECIFICA_DET  \\\n",
            "0          1  ...  A OTRAS UNIDADES DEL GOBIERNO               1   \n",
            "1          1  ...  A OTRAS UNIDADES DEL GOBIERNO               1   \n",
            "2          1  ...  A OTRAS UNIDADES DEL GOBIERNO               1   \n",
            "3          1  ...  A OTRAS UNIDADES DEL GOBIERNO               1   \n",
            "4          1  ...  A OTRAS UNIDADES DEL GOBIERNO               1   \n",
            "\n",
            "                    ESPECIFICA_DET_NOMBRE  MONTO_PIA MONTO_PIM  \\\n",
            "0  A OTRAS UNIDADES DEL GOBIERNO NACIONAL          0         0   \n",
            "1  A OTRAS UNIDADES DEL GOBIERNO NACIONAL          0         0   \n",
            "2  A OTRAS UNIDADES DEL GOBIERNO NACIONAL          0         0   \n",
            "3  A OTRAS UNIDADES DEL GOBIERNO NACIONAL          0     23400   \n",
            "4  A OTRAS UNIDADES DEL GOBIERNO NACIONAL          0      6000   \n",
            "\n",
            "   MONTO_CERTIFICADO MONTO_COMPROMETIDO_ANUAL  MONTO_COMPROMETIDO  \\\n",
            "0             6000.0                      0.0                 0.0   \n",
            "1                0.0                   6000.0                 0.0   \n",
            "2                0.0                      0.0              6000.0   \n",
            "3                0.0                      0.0                 0.0   \n",
            "4                0.0                      0.0                 0.0   \n",
            "\n",
            "   MONTO_DEVENGADO MONTO_GIRADO  \n",
            "0              0.0          0.0  \n",
            "1              0.0          0.0  \n",
            "2           6000.0       6000.0  \n",
            "3              0.0          0.0  \n",
            "4              0.0          0.0  \n",
            "\n",
            "[5 rows x 63 columns]\n",
            "\n",
            "Diccionario de datos:\n",
            "                VARIABLE TIPO_DATO  \\\n",
            "0                ANO_EJE  Numerico   \n",
            "1                MES_EJE  Numerico   \n",
            "2         NIVEL_GOBIERNO  Caracter   \n",
            "3  NIVEL_GOBIERNO_NOMBRE  Caracter   \n",
            "4                 SECTOR  Caracter   \n",
            "\n",
            "                                         DESCRIPCION  \n",
            "0                 Anio de ejecucion del presupuesto.  \n",
            "1                  Mes de ejecucion del presupuesto.  \n",
            "2  Codigo (letra) que identifica el Nivel de Gobi...  \n",
            "3  Descripcion de Nivel de Gobierno: Nacional, Re...  \n",
            "4      Codigo de Sector al que pertenece la Entidad.  \n"
          ]
        }
      ]
    },
    {
      "cell_type": "markdown",
      "source": [
        "Filtrado de datos"
      ],
      "metadata": {
        "id": "2E3tM47sI76i"
      }
    },
    {
      "cell_type": "code",
      "source": [
        "# Filtrar columnas relevantes\n",
        "data_filtered = data[['MONTO_CERTIFICADO', 'MONTO_DEVENGADO']]\n",
        "\n",
        "# Convertir a numérico y manejar valores faltantes\n",
        "data_filtered['MONTO_CERTIFICADO'] = pd.to_numeric(data_filtered['MONTO_CERTIFICADO'], errors='coerce')\n",
        "data_filtered['MONTO_DEVENGADO'] = pd.to_numeric(data_filtered['MONTO_DEVENGADO'], errors='coerce')\n",
        "\n",
        "# Eliminar filas con valores faltantes\n",
        "data_filtered.dropna(inplace=True)\n",
        "\n",
        "print(\"Datos filtrados y limpios:\")\n",
        "print(data_filtered.describe())"
      ],
      "metadata": {
        "colab": {
          "base_uri": "https://localhost:8080/"
        },
        "id": "oZN0NOK8JBkP",
        "outputId": "ca25b409-985b-41c3-afb9-57503257ca6a"
      },
      "execution_count": 10,
      "outputs": [
        {
          "output_type": "stream",
          "name": "stdout",
          "text": [
            "Datos filtrados y limpios:\n",
            "       MONTO_CERTIFICADO  MONTO_DEVENGADO\n",
            "count       2.030750e+05     2.030750e+05\n",
            "mean        1.102352e+05     1.089204e+05\n",
            "std         4.104022e+06     3.576669e+06\n",
            "min        -2.466100e+08    -3.899862e+06\n",
            "25%         0.000000e+00     0.000000e+00\n",
            "50%         0.000000e+00     0.000000e+00\n",
            "75%         1.302100e+03     1.850000e+03\n",
            "max         9.310798e+08     9.310798e+08\n"
          ]
        },
        {
          "output_type": "stream",
          "name": "stderr",
          "text": [
            "<ipython-input-10-9327e8289024>:5: SettingWithCopyWarning: \n",
            "A value is trying to be set on a copy of a slice from a DataFrame.\n",
            "Try using .loc[row_indexer,col_indexer] = value instead\n",
            "\n",
            "See the caveats in the documentation: https://pandas.pydata.org/pandas-docs/stable/user_guide/indexing.html#returning-a-view-versus-a-copy\n",
            "  data_filtered['MONTO_CERTIFICADO'] = pd.to_numeric(data_filtered['MONTO_CERTIFICADO'], errors='coerce')\n",
            "<ipython-input-10-9327e8289024>:6: SettingWithCopyWarning: \n",
            "A value is trying to be set on a copy of a slice from a DataFrame.\n",
            "Try using .loc[row_indexer,col_indexer] = value instead\n",
            "\n",
            "See the caveats in the documentation: https://pandas.pydata.org/pandas-docs/stable/user_guide/indexing.html#returning-a-view-versus-a-copy\n",
            "  data_filtered['MONTO_DEVENGADO'] = pd.to_numeric(data_filtered['MONTO_DEVENGADO'], errors='coerce')\n",
            "<ipython-input-10-9327e8289024>:9: SettingWithCopyWarning: \n",
            "A value is trying to be set on a copy of a slice from a DataFrame\n",
            "\n",
            "See the caveats in the documentation: https://pandas.pydata.org/pandas-docs/stable/user_guide/indexing.html#returning-a-view-versus-a-copy\n",
            "  data_filtered.dropna(inplace=True)\n"
          ]
        }
      ]
    },
    {
      "cell_type": "markdown",
      "source": [
        "PCA y reducir dimensionalidad"
      ],
      "metadata": {
        "id": "5KpL_ivxZ9_i"
      }
    },
    {
      "cell_type": "code",
      "source": [
        "def apply_pca_and_plot(data, n_components=2):\n",
        "    # Asegurarse de que los datos no tengan valores faltantes\n",
        "    data = data.dropna()\n",
        "\n",
        "    # Estándarizar los datos\n",
        "    scaler = StandardScaler()\n",
        "    data_scaled = scaler.fit_transform(data)\n",
        "\n",
        "    # Aplicar PCA\n",
        "    pca = PCA(n_components=n_components)\n",
        "    data_pca = pca.fit_transform(data_scaled)\n",
        "\n",
        "    # Crear un DataFrame con los resultados\n",
        "    df_pca = pd.DataFrame(data_pca, columns=[f'PC{i+1}' for i in range(n_components)])\n",
        "\n",
        "    # Visualizar los resultados\n",
        "    plt.figure(figsize=(10, 6))\n",
        "    plt.scatter(df_pca['PC1'], df_pca['PC2'], c='blue', edgecolor='k', s=50)\n",
        "    plt.xlabel('Principal Component 1')\n",
        "    plt.ylabel('Principal Component 2')\n",
        "    plt.title('PCA: 3D to 2D')\n",
        "    plt.grid(True)\n",
        "    plt.show()\n",
        "\n",
        "    return df_pca\n",
        "\n",
        "# Aplicar PCA y reducir dimensionalidad\n",
        "# Aquí se simula una tercera característica para demostración:\n",
        "data_filtered['MONTO_TOTAL'] = data_filtered['MONTO_CERTIFICADO'] + data_filtered['MONTO_DEVENGADO']\n",
        "\n",
        "# Reducir de 3 a 2 dimensiones\n",
        "df_pca = apply_pca_and_plot(data_filtered[['MONTO_CERTIFICADO', 'MONTO_DEVENGADO', 'MONTO_TOTAL']])\n",
        "print(df_pca)"
      ],
      "metadata": {
        "colab": {
          "base_uri": "https://localhost:8080/",
          "height": 911
        },
        "id": "gvcSurXLZ-sB",
        "outputId": "8707f0b4-be6f-404f-e0c2-47f94ef12424"
      },
      "execution_count": 11,
      "outputs": [
        {
          "output_type": "stream",
          "name": "stderr",
          "text": [
            "<ipython-input-11-18994f4b8eb0>:29: SettingWithCopyWarning: \n",
            "A value is trying to be set on a copy of a slice from a DataFrame.\n",
            "Try using .loc[row_indexer,col_indexer] = value instead\n",
            "\n",
            "See the caveats in the documentation: https://pandas.pydata.org/pandas-docs/stable/user_guide/indexing.html#returning-a-view-versus-a-copy\n",
            "  data_filtered['MONTO_TOTAL'] = data_filtered['MONTO_CERTIFICADO'] + data_filtered['MONTO_DEVENGADO']\n"
          ]
        },
        {
          "output_type": "display_data",
          "data": {
            "text/plain": [
              "<Figure size 1000x600 with 1 Axes>"
            ],
            "image/png": "[encoded data removed]"
          },
          "metadata": {}
        },
        {
          "output_type": "stream",
          "name": "stdout",
          "text": [
            "             PC1       PC2\n",
            "0      -0.053641 -0.005094\n",
            "1      -0.055126 -0.004100\n",
            "2      -0.053592 -0.002869\n",
            "3      -0.055126 -0.004100\n",
            "4      -0.055126 -0.004100\n",
            "...          ...       ...\n",
            "203070 -0.055126 -0.004100\n",
            "203071 -0.053418 -0.005243\n",
            "203072 -0.023306 -0.025387\n",
            "203073  0.055103  0.014430\n",
            "203074 -0.046250  0.003025\n",
            "\n",
            "[203075 rows x 2 columns]\n"
          ]
        }
      ]
    },
    {
      "cell_type": "markdown",
      "source": [
        "Aplicar K-Means con datos reducidos"
      ],
      "metadata": {
        "id": "LLslIsAEaG1h"
      }
    },
    {
      "cell_type": "code",
      "source": [
        "# Aplicar K-Means en los datos reducidos dimensionalmente\n",
        "def plot_elbow_method(data, max_clusters=10):\n",
        "    distortions = []\n",
        "    for i in range(1, max_clusters+1):\n",
        "        kmeans = KMeans(n_clusters=i, random_state=0)\n",
        "        kmeans.fit(data)\n",
        "        distortions.append(kmeans.inertia_)\n",
        "\n",
        "    plt.figure(figsize=(8, 4))\n",
        "    plt.plot(range(1, max_clusters+1), distortions, marker='o')\n",
        "    plt.xlabel('Número de clusters')\n",
        "    plt.ylabel('Distorsión')\n",
        "    plt.title('Método del codo para determinar el número óptimo de clusters')\n",
        "    plt.grid(True)\n",
        "    plt.show()\n",
        "\n",
        "# Determinar el número óptimo de clusters usando el método del codo\n",
        "plot_elbow_method(df_pca)"
      ],
      "metadata": {
        "colab": {
          "base_uri": "https://localhost:8080/",
          "height": 778
        },
        "id": "LRHHJ2IIaJcW",
        "outputId": "ba003809-16f7-4751-9f21-8343c4e0e767"
      },
      "execution_count": 12,
      "outputs": [
        {
          "output_type": "stream",
          "name": "stderr",
          "text": [
            "/usr/local/lib/python3.10/dist-packages/sklearn/cluster/_kmeans.py:870: FutureWarning: The default value of `n_init` will change from 10 to 'auto' in 1.4. Set the value of `n_init` explicitly to suppress the warning\n",
            "  warnings.warn(\n",
            "/usr/local/lib/python3.10/dist-packages/sklearn/cluster/_kmeans.py:870: FutureWarning: The default value of `n_init` will change from 10 to 'auto' in 1.4. Set the value of `n_init` explicitly to suppress the warning\n",
            "  warnings.warn(\n",
            "/usr/local/lib/python3.10/dist-packages/sklearn/cluster/_kmeans.py:870: FutureWarning: The default value of `n_init` will change from 10 to 'auto' in 1.4. Set the value of `n_init` explicitly to suppress the warning\n",
            "  warnings.warn(\n",
            "/usr/local/lib/python3.10/dist-packages/sklearn/cluster/_kmeans.py:870: FutureWarning: The default value of `n_init` will change from 10 to 'auto' in 1.4. Set the value of `n_init` explicitly to suppress the warning\n",
            "  warnings.warn(\n",
            "/usr/local/lib/python3.10/dist-packages/sklearn/cluster/_kmeans.py:870: FutureWarning: The default value of `n_init` will change from 10 to 'auto' in 1.4. Set the value of `n_init` explicitly to suppress the warning\n",
            "  warnings.warn(\n",
            "/usr/local/lib/python3.10/dist-packages/sklearn/cluster/_kmeans.py:870: FutureWarning: The default value of `n_init` will change from 10 to 'auto' in 1.4. Set the value of `n_init` explicitly to suppress the warning\n",
            "  warnings.warn(\n",
            "/usr/local/lib/python3.10/dist-packages/sklearn/cluster/_kmeans.py:870: FutureWarning: The default value of `n_init` will change from 10 to 'auto' in 1.4. Set the value of `n_init` explicitly to suppress the warning\n",
            "  warnings.warn(\n",
            "/usr/local/lib/python3.10/dist-packages/sklearn/cluster/_kmeans.py:870: FutureWarning: The default value of `n_init` will change from 10 to 'auto' in 1.4. Set the value of `n_init` explicitly to suppress the warning\n",
            "  warnings.warn(\n",
            "/usr/local/lib/python3.10/dist-packages/sklearn/cluster/_kmeans.py:870: FutureWarning: The default value of `n_init` will change from 10 to 'auto' in 1.4. Set the value of `n_init` explicitly to suppress the warning\n",
            "  warnings.warn(\n",
            "/usr/local/lib/python3.10/dist-packages/sklearn/cluster/_kmeans.py:870: FutureWarning: The default value of `n_init` will change from 10 to 'auto' in 1.4. Set the value of `n_init` explicitly to suppress the warning\n",
            "  warnings.warn(\n"
          ]
        },
        {
          "output_type": "display_data",
          "data": {
            "text/plain": [
              "<Figure size 800x400 with 1 Axes>"
            ],
            "image/png": "[encoded data removed]"
          },
          "metadata": {}
        }
      ]
    },
    {
      "cell_type": "markdown",
      "source": [
        "Elegir numero de clusters"
      ],
      "metadata": {
        "id": "Sm2k6sE9aMPq"
      }
    },
    {
      "cell_type": "code",
      "source": [
        "# Elegir el número óptimo de clusters 3\n",
        "kmeans = KMeans(n_clusters=3, random_state=0)\n",
        "df_pca['Cluster'] = kmeans.fit_predict(df_pca)\n",
        "\n",
        "print(\"Datos con clusters asignados:\")\n",
        "print(df_pca.head())"
      ],
      "metadata": {
        "colab": {
          "base_uri": "https://localhost:8080/"
        },
        "id": "so2fMvlXaPI1",
        "outputId": "f59208e8-fed8-4477-9a42-151e0524a421"
      },
      "execution_count": 13,
      "outputs": [
        {
          "output_type": "stream",
          "name": "stderr",
          "text": [
            "/usr/local/lib/python3.10/dist-packages/sklearn/cluster/_kmeans.py:870: FutureWarning: The default value of `n_init` will change from 10 to 'auto' in 1.4. Set the value of `n_init` explicitly to suppress the warning\n",
            "  warnings.warn(\n"
          ]
        },
        {
          "output_type": "stream",
          "name": "stdout",
          "text": [
            "Datos con clusters asignados:\n",
            "        PC1       PC2  Cluster\n",
            "0 -0.053641 -0.005094        0\n",
            "1 -0.055126 -0.004100        0\n",
            "2 -0.053592 -0.002869        0\n",
            "3 -0.055126 -0.004100        0\n",
            "4 -0.055126 -0.004100        0\n"
          ]
        }
      ]
    },
    {
      "cell_type": "markdown",
      "source": [
        "Visualizacion de clustering con kmeans"
      ],
      "metadata": {
        "id": "UHiipxzaaQxI"
      }
    },
    {
      "cell_type": "code",
      "source": [
        "plt.figure(figsize=(10, 6))\n",
        "plt.scatter(df_pca['PC1'], df_pca['PC2'], c=df_pca['Cluster'], cmap='viridis')\n",
        "plt.xlabel('MONTO CERTIFICADO')\n",
        "plt.ylabel('MONTO DEVENGADO')\n",
        "plt.title('Patrones de Inversión del Gobierno durante la Pandemia (K-Means Clustering)')\n",
        "plt.colorbar(label='Cluster')\n",
        "plt.grid(True)\n",
        "plt.show()"
      ],
      "metadata": {
        "colab": {
          "base_uri": "https://localhost:8080/",
          "height": 565
        },
        "id": "ENQpHzcWaS0c",
        "outputId": "63f27ece-f5ea-4d2d-9c71-b35db1a859f5"
      },
      "execution_count": 14,
      "outputs": [
        {
          "output_type": "display_data",
          "data": {
            "text/plain": [
              "<Figure size 1000x600 with 2 Axes>"
            ],
            "image/png": "[encoded data removed]"
          },
          "metadata": {}
        }
      ]
    },
    {
      "cell_type": "markdown",
      "source": [
        "Analisis descriptivo de cluster"
      ],
      "metadata": {
        "id": "XcHZP-WZaXqi"
      }
    },
    {
      "cell_type": "code",
      "source": [
        "# Análisis descriptivo por cluster\n",
        "cluster_analysis = df_pca.groupby('Cluster').mean()\n",
        "print(\"Análisis descriptivo por cluster:\")\n",
        "print(cluster_analysis)"
      ],
      "metadata": {
        "colab": {
          "base_uri": "https://localhost:8080/"
        },
        "id": "fXNYYu6paZBk",
        "outputId": "759d7c17-8b6a-4ba0-ae71-6b7d12207ae8"
      },
      "execution_count": 15,
      "outputs": [
        {
          "output_type": "stream",
          "name": "stdout",
          "text": [
            "Análisis descriptivo por cluster:\n",
            "                PC1         PC2\n",
            "Cluster                        \n",
            "0         -0.010114   -0.000093\n",
            "1        137.025082  -53.014416\n",
            "2        136.714441  109.788014\n"
          ]
        }
      ]
    },
    {
      "cell_type": "markdown",
      "source": [
        "Evaluacion de modelo"
      ],
      "metadata": {
        "id": "hgLkmWRzf493"
      }
    },
    {
      "cell_type": "code",
      "source": [
        "# Métricas de evaluación sin etiquetas verdaderas\n",
        "silhouette_avg = silhouette_score(df_pca[['PC1', 'PC2']], df_pca['Cluster'])\n",
        "print(f\"Índice de Silueta: {silhouette_avg:.3f}\")\n",
        "\n",
        "# Simulamos etiquetas verdaderas para calcular métricas que requieren etiquetas verdaderas\n",
        "true_labels = np.random.randint(0, 3, len(df_pca))\n",
        "\n",
        "# Calcular métricas que requieren etiquetas verdaderas\n",
        "homogeneity = homogeneity_score(true_labels, df_pca['Cluster'])\n",
        "completeness = completeness_score(true_labels, df_pca['Cluster'])\n",
        "v_measure = v_measure_score(true_labels, df_pca['Cluster'])\n",
        "\n",
        "print(f\"Homogeneidad: {homogeneity:.3f}\")\n",
        "print(f\"Completeness: {completeness:.3f}\")\n",
        "print(f\"V-Measure: {v_measure:.3f}\")\n",
        "\n",
        "# Calcular inercia\n",
        "inertia = kmeans.inertia_\n",
        "print(f\"Inercia (Suma de Cuadrados Dentro del Cluster): {inertia:.3f}\")"
      ],
      "metadata": {
        "colab": {
          "base_uri": "https://localhost:8080/"
        },
        "id": "CFfs8SXyf4d7",
        "outputId": "d3879adc-421d-4a33-8d35-2417ac2d9999"
      },
      "execution_count": null,
      "outputs": [
        {
          "output_type": "stream",
          "name": "stdout",
          "text": [
            "Índice de Silueta: 0.999\n",
            "Homogeneidad: 0.000\n",
            "Completeness: 0.005\n",
            "V-Measure: 0.000\n",
            "Inercia (Suma de Cuadrados Dentro del Cluster): 239618.981\n"
          ]
        }
      ]
    }
  ]
}